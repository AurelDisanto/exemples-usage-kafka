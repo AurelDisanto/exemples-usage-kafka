{
 "cells": [
  {
   "cell_type": "code",
   "execution_count": null,
   "id": "1e0d0132-f0ae-4bed-b0d8-056baba3a5b1",
   "metadata": {},
   "outputs": [],
   "source": [
    "!pip install confluent-kafka"
   ]
  },
  {
   "cell_type": "code",
   "execution_count": null,
   "id": "e7b60f7c-1caa-4ec5-87cf-24e1d80f8832",
   "metadata": {},
   "outputs": [],
   "source": [
    "import sys\n",
    "from random import choice\n",
    "from argparse import ArgumentParser, FileType\n",
    "from configparser import ConfigParser\n",
    "from confluent_kafka import Producer\n",
    "import socket"
   ]
  },
  {
   "cell_type": "code",
   "execution_count": null,
   "id": "100eb9f8-d63e-436a-ba0e-38a267dc076a",
   "metadata": {},
   "outputs": [],
   "source": [
    "config = dict([\n",
    "    ('bootstrap.servers', \"kafka-controller-0.kafka-controller-headless:9092,kafka-controller-1.kafka-controller-headless:9092,kafka-controller-2.kafka-controller-headless:9092\"),\n",
    "    ('client.id', socket.gethostname()) # a priori inutile\n",
    "])\n",
    "producer = Producer(config)"
   ]
  },
  {
   "cell_type": "code",
   "execution_count": null,
   "id": "392db230-25bd-49fa-ae3f-74cc0a3139ff",
   "metadata": {},
   "outputs": [],
   "source": [
    "def delivery_callback(err, msg):\n",
    "    if err:\n",
    "        print('ERROR: Message failed delivery: {}'.format(err))\n",
    "    else:\n",
    "        print(\"Produced event to topic {topic}: key = {key:12} value = {value:12}\".format(\n",
    "            topic=msg.topic(), key=msg.key().decode('utf-8'), value=msg.value().decode('utf-8'))\n",
    "        )"
   ]
  },
  {
   "cell_type": "code",
   "execution_count": null,
   "id": "3efa54e9-efcb-4a98-8c08-735c7fdcac11",
   "metadata": {},
   "outputs": [],
   "source": [
    "topic = \"purchases\"\n",
    "user_ids = ['eabara', 'jsmith', 'sgarcia', 'jbernard', 'htanaka', 'awalther']\n",
    "products = ['book', 'alarm clock', 't-shirts', 'gift card', 'batteries']"
   ]
  },
  {
   "cell_type": "code",
   "execution_count": null,
   "id": "74c8925d-44c3-4c2e-82c5-bd09e0b2897b",
   "metadata": {},
   "outputs": [],
   "source": [
    "count = 0\n",
    "for _ in range(10):\n",
    "    user_id = choice(user_ids)\n",
    "    product = choice(products)\n",
    "    producer.produce(topic, product, user_id, callback=delivery_callback)\n",
    "    count += 1\n",
    "\n",
    "# Block until the messages are sent.\n",
    "producer.poll(10000)\n",
    "producer.flush()"
   ]
  }
 ],
 "metadata": {
  "kernelspec": {
   "display_name": "Python 3 (ipykernel)",
   "language": "python",
   "name": "python3"
  },
  "language_info": {
   "codemirror_mode": {
    "name": "ipython",
    "version": 3
   },
   "file_extension": ".py",
   "mimetype": "text/x-python",
   "name": "python",
   "nbconvert_exporter": "python",
   "pygments_lexer": "ipython3",
   "version": "3.10.13"
  }
 },
 "nbformat": 4,
 "nbformat_minor": 5
}
