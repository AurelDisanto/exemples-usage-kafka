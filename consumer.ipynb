{
 "cells": [
  {
   "cell_type": "code",
   "execution_count": null,
   "id": "1e0d0132-f0ae-4bed-b0d8-056baba3a5b1",
   "metadata": {},
   "outputs": [],
   "source": [
    "!pip install confluent-kafka"
   ]
  },
  {
   "cell_type": "code",
   "execution_count": null,
   "id": "e7b60f7c-1caa-4ec5-87cf-24e1d80f8832",
   "metadata": {},
   "outputs": [],
   "source": [
    "import sys\n",
    "from confluent_kafka import Consumer, OFFSET_BEGINNING\n",
    "import socket"
   ]
  },
  {
   "cell_type": "code",
   "execution_count": 12,
   "id": "100eb9f8-d63e-436a-ba0e-38a267dc076a",
   "metadata": {},
   "outputs": [],
   "source": [
    "# config du Consumer\n",
    "config = dict([\n",
    "    ('bootstrap.servers', \"kafka-controller-0.kafka-controller-headless:9092,kafka-controller-1.kafka-controller-headless:9092,kafka-controller-2.kafka-controller-headless:9092\"),\n",
    "    ('group.id','python_example_group_1'),\n",
    "    ('auto.offset.reset','earliest'),\n",
    "    ('client.id', socket.gethostname()) # a priori inutile\n",
    "])\n",
    "consumer = Consumer(config)"
   ]
  },
  {
   "cell_type": "code",
   "execution_count": 13,
   "id": "392db230-25bd-49fa-ae3f-74cc0a3139ff",
   "metadata": {},
   "outputs": [],
   "source": [
    "# Subscribe to topic\n",
    "topic = \"purchases\"\n",
    "consumer.subscribe([topic])"
   ]
  },
  {
   "cell_type": "code",
   "execution_count": null,
   "id": "28d9eb2f-3c64-4e21-979d-3376ed1ba9bf",
   "metadata": {},
   "outputs": [],
   "source": [
    "# Poll for new messages from Kafka and print them.\n",
    "try:\n",
    "    while True:\n",
    "        msg = consumer.poll(1.0)\n",
    "        if msg is None:\n",
    "            # Initial message consumption may take up to\n",
    "            # `session.timeout.ms` for the consumer group to\n",
    "            # rebalance and start consuming\n",
    "            print(\"Waiting...\")\n",
    "        elif msg.error():\n",
    "            print(\"ERROR: %s\".format(msg.error()))\n",
    "        else:\n",
    "            # Extract the (optional) key and value, and print.\n",
    "            print(\"Consumed event from topic {topic}: key = {key:12} value = {value:12}\".format(\n",
    "                topic=msg.topic(), key=msg.key().decode('utf-8'), value=msg.value().decode('utf-8')))\n",
    "except KeyboardInterrupt:\n",
    "    pass\n",
    "finally:\n",
    "    # Leave group and commit final offsets\n",
    "    consumer.close()"
   ]
  }
 ],
 "metadata": {
  "kernelspec": {
   "display_name": "Python 3 (ipykernel)",
   "language": "python",
   "name": "python3"
  },
  "language_info": {
   "codemirror_mode": {
    "name": "ipython",
    "version": 3
   },
   "file_extension": ".py",
   "mimetype": "text/x-python",
   "name": "python",
   "nbconvert_exporter": "python",
   "pygments_lexer": "ipython3",
   "version": "3.10.13"
  }
 },
 "nbformat": 4,
 "nbformat_minor": 5
}
